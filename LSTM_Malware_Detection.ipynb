{
  "nbformat": 4,
  "nbformat_minor": 0,
  "metadata": {
    "colab": {
      "name": "LSTM Malware Detection.ipynb",
      "provenance": [],
      "collapsed_sections": [],
      "authorship_tag": "ABX9TyMk66zGhkHMFJDR79Dwka66",
      "include_colab_link": true
    },
    "kernelspec": {
      "name": "python3",
      "display_name": "Python 3"
    },
    "language_info": {
      "name": "python"
    },
    "accelerator": "GPU"
  },
  "cells": [
    {
      "cell_type": "markdown",
      "metadata": {
        "id": "view-in-github",
        "colab_type": "text"
      },
      "source": [
        "<a href=\"https://colab.research.google.com/github/aftab-ali/Tensorflow2.0/blob/main/LSTM_Malware_Detection.ipynb\" target=\"_parent\"><img src=\"https://colab.research.google.com/assets/colab-badge.svg\" alt=\"Open In Colab\"/></a>"
      ]
    },
    {
      "cell_type": "code",
      "metadata": {
        "colab": {
          "base_uri": "https://localhost:8080/"
        },
        "id": "zy_JWaClvSPa",
        "outputId": "2c03f869-401c-430e-c55b-60f403f24b2b"
      },
      "source": [
        "!git clone https://github.com/aftab-ali/Tensorflow2.0.git"
      ],
      "execution_count": 1,
      "outputs": [
        {
          "output_type": "stream",
          "text": [
            "Cloning into 'Tensorflow2.0'...\n",
            "remote: Enumerating objects: 30, done.\u001b[K\n",
            "remote: Counting objects: 100% (30/30), done.\u001b[K\n",
            "remote: Compressing objects: 100% (30/30), done.\u001b[K\n",
            "remote: Total 30 (delta 9), reused 0 (delta 0), pack-reused 0\u001b[K\n",
            "Unpacking objects: 100% (30/30), done.\n"
          ],
          "name": "stdout"
        }
      ]
    },
    {
      "cell_type": "code",
      "metadata": {
        "colab": {
          "base_uri": "https://localhost:8080/"
        },
        "id": "cCaca_ot3jT1",
        "outputId": "984a4559-6edc-4715-d1d5-7c66e9261989"
      },
      "source": [
        "%cd Tensorflow2.0/"
      ],
      "execution_count": 2,
      "outputs": [
        {
          "output_type": "stream",
          "text": [
            "/content/Tensorflow2.0\n"
          ],
          "name": "stdout"
        }
      ]
    },
    {
      "cell_type": "code",
      "metadata": {
        "id": "vwwjz_AHcSKX"
      },
      "source": [
        "import numpy\n",
        "import os\n",
        "import  joblib\n",
        "import pickle\n",
        "import pandas as pd\n",
        "import matplotlib.pyplot as plt\n",
        "import tensorflow as tf\n",
        "import seaborn as sns\n",
        "from sklearn.preprocessing import LabelEncoder\n",
        "from sklearn.model_selection import train_test_split\n",
        "from sklearn.metrics import confusion_matrix\n",
        "from keras.preprocessing.text import Tokenizer\n",
        "from keras.layers import LSTM, Dense, Dropout, Embedding\n",
        "from keras.preprocessing import sequence\n",
        "from keras.utils import np_utils\n",
        "from keras.models import Sequential\n",
        "from keras.layers import SpatialDropout1D\n",
        "from keras.models import model_from_json\n",
        "from mlxtend.plotting import plot_confusion_matrix"
      ],
      "execution_count": 3,
      "outputs": []
    },
    {
      "cell_type": "code",
      "metadata": {
        "id": "_XdiZF4ndAae"
      },
      "source": [
        "malware_calls_df = pd.read_csv(\"calls.zip\", compression=\"zip\",\n",
        "                               sep=\"\\t\", names=[\"API_Calls\"])\n",
        "\n",
        "malware_labels_df = pd.read_csv(\"types.zip\", compression=\"zip\",\n",
        "                                sep=\"\\t\", names=[\"API_Labels\"])\n",
        "\n",
        "malware_calls_df[\"API_Labels\"] = malware_labels_df.API_Labels\n",
        "malware_calls_df[\"API_Calls\"] = malware_calls_df.API_Calls.apply(lambda x: \" \".join(x.split(\",\")))\n",
        "\n",
        "malware_calls_df[\"API_Labels\"] = malware_calls_df.API_Labels.apply(lambda x: 1 if x == \"Virus\" else 0)"
      ],
      "execution_count": 4,
      "outputs": []
    },
    {
      "cell_type": "code",
      "metadata": {
        "colab": {
          "base_uri": "https://localhost:8080/",
          "height": 351
        },
        "id": "k2XNuLbbdMEV",
        "outputId": "6c0fee9d-de1e-403b-d5a7-2b22bdbae7be"
      },
      "source": [
        "sns.countplot(malware_calls_df.API_Labels)\n",
        "plt.xlabel('Labels')\n",
        "plt.title('Class Distribution')\n",
        "plt.savefig(\"class_distribution.png\")\n",
        "plt.show()"
      ],
      "execution_count": 5,
      "outputs": [
        {
          "output_type": "stream",
          "text": [
            "/usr/local/lib/python3.7/dist-packages/seaborn/_decorators.py:43: FutureWarning: Pass the following variable as a keyword arg: x. From version 0.12, the only valid positional argument will be `data`, and passing other arguments without an explicit keyword will result in an error or misinterpretation.\n",
            "  FutureWarning\n"
          ],
          "name": "stderr"
        },
        {
          "output_type": "display_data",
          "data": {
            "image/png": "[encoded data removed]",
            "text/plain": [
              "<Figure size 432x288 with 1 Axes>"
            ]
          },
          "metadata": {
            "tags": [],
            "needs_background": "light"
          }
        }
      ]
    },
    {
      "cell_type": "code",
      "metadata": {
        "colab": {
          "base_uri": "https://localhost:8080/"
        },
        "id": "REPFHFpGdV11",
        "outputId": "2f90d3eb-f80f-46ca-e793-069304097976"
      },
      "source": [
        "max_words = 800\n",
        "max_len = 100\n",
        "\n",
        "X = malware_calls_df.API_Calls\n",
        "Y = malware_calls_df.API_Labels.astype('category').cat.codes\n",
        "\n",
        "tok = Tokenizer(num_words=max_words)\n",
        "tok.fit_on_texts(X)\n",
        "print('Found %s unique tokens.' % len(tok.word_index))\n",
        "X = tok.texts_to_sequences(X.values)\n",
        "X = sequence.pad_sequences(X, maxlen=max_len)\n",
        "print('Shape of data tensor:', X.shape)\n",
        "\n",
        "X_train, X_test, Y_train, Y_test = train_test_split(X, Y, test_size=0.2)\n",
        "\n",
        "le = LabelEncoder()\n",
        "Y_train_enc = le.fit_transform(Y_train)\n",
        "Y_train_enc = np_utils.to_categorical(Y_train_enc)\n",
        "\n",
        "Y_test_enc = le.transform(Y_test)\n",
        "Y_test_enc = np_utils.to_categorical(Y_test_enc)"
      ],
      "execution_count": 6,
      "outputs": [
        {
          "output_type": "stream",
          "text": [
            "Found 278 unique tokens.\n",
            "Shape of data tensor: (7107, 100)\n"
          ],
          "name": "stdout"
        }
      ]
    },
    {
      "cell_type": "code",
      "metadata": {
        "id": "C-4-47EIdahG"
      },
      "source": [
        "# Sequential Model\n",
        "# activation_function = 'softsign'\n",
        "def malware_model(act_func=\"softsign\"):\n",
        "    model = Sequential()\n",
        "    model.add(Embedding(max_words, 300, input_length=max_len))\n",
        "    model.add(SpatialDropout1D(0.1))\n",
        "    model.add(LSTM(32, dropout=0.1, recurrent_dropout=0.1, return_sequences=True, activation=act_func))\n",
        "    model.add(LSTM(32, dropout=0.1, activation=act_func, return_sequences=True))\n",
        "    model.add(LSTM(32, dropout=0.1, activation=act_func))\n",
        "    model.add(Dense(128, activation=act_func))\n",
        "    model.add(Dropout(0.1))\n",
        "    model.add(Dense(256, activation=act_func))\n",
        "    model.add(Dropout(0.1))\n",
        "    model.add(Dense(128, activation=act_func))\n",
        "    model.add(Dropout(0.1))\n",
        "    model.add(Dense(1, name='out_layer', activation=\"linear\"))\n",
        "    return model"
      ],
      "execution_count": 32,
      "outputs": []
    },
    {
      "cell_type": "code",
      "metadata": {
        "id": "lyznYfEyNgAw"
      },
      "source": [
        "class myCallback(tf.keras.callbacks.Callback):\n",
        "  def on_epoch_end(self, epoch, logs={}):\n",
        "    if(logs.get('accuracy') > 0.90):\n",
        "      print(\"\\nReached +90% Accuracy so cancelling Training!\")\n",
        "      self.model.stop_training = True\n",
        "\n",
        "callbacks = myCallback()"
      ],
      "execution_count": 33,
      "outputs": []
    },
    {
      "cell_type": "code",
      "metadata": {
        "colab": {
          "base_uri": "https://localhost:8080/"
        },
        "id": "hzL1O4-bfJfI",
        "outputId": "858040cf-bd60-4f56-e793-2252a9bb3f2e"
      },
      "source": [
        "model = malware_model()\n",
        "print(model.summary())\n",
        "model.compile(loss='mse', optimizer=\"rmsprop\", metrics=['accuracy'])\n",
        "\n",
        "# history\n",
        "history = model.fit(X_train, Y_train, batch_size=1000, epochs=10,\n",
        "                    verbose=1, callbacks=[callbacks], \n",
        "                    validation_data=(X_test, Y_test))\n",
        "\n",
        "# validation_data=(X_test, Y_test)\n",
        "# evaluate the model"
      ],
      "execution_count": 36,
      "outputs": [
        {
          "output_type": "stream",
          "text": [
            "WARNING:tensorflow:Layer lstm_18 will not use cuDNN kernels since it doesn't meet the criteria. It will use a generic GPU kernel as fallback when running on GPU.\n",
            "WARNING:tensorflow:Layer lstm_19 will not use cuDNN kernels since it doesn't meet the criteria. It will use a generic GPU kernel as fallback when running on GPU.\n",
            "WARNING:tensorflow:Layer lstm_20 will not use cuDNN kernels since it doesn't meet the criteria. It will use a generic GPU kernel as fallback when running on GPU.\n",
            "Model: \"sequential_6\"\n",
            "_________________________________________________________________\n",
            "Layer (type)                 Output Shape              Param #   \n",
            "=================================================================\n",
            "embedding_6 (Embedding)      (None, 100, 300)          240000    \n",
            "_________________________________________________________________\n",
            "spatial_dropout1d_6 (Spatial (None, 100, 300)          0         \n",
            "_________________________________________________________________\n",
            "lstm_18 (LSTM)               (None, 100, 32)           42624     \n",
            "_________________________________________________________________\n",
            "lstm_19 (LSTM)               (None, 100, 32)           8320      \n",
            "_________________________________________________________________\n",
            "lstm_20 (LSTM)               (None, 32)                8320      \n",
            "_________________________________________________________________\n",
            "dense_18 (Dense)             (None, 128)               4224      \n",
            "_________________________________________________________________\n",
            "dropout_18 (Dropout)         (None, 128)               0         \n",
            "_________________________________________________________________\n",
            "dense_19 (Dense)             (None, 256)               33024     \n",
            "_________________________________________________________________\n",
            "dropout_19 (Dropout)         (None, 256)               0         \n",
            "_________________________________________________________________\n",
            "dense_20 (Dense)             (None, 128)               32896     \n",
            "_________________________________________________________________\n",
            "dropout_20 (Dropout)         (None, 128)               0         \n",
            "_________________________________________________________________\n",
            "out_layer (Dense)            (None, 1)                 129       \n",
            "=================================================================\n",
            "Total params: 369,537\n",
            "Trainable params: 369,537\n",
            "Non-trainable params: 0\n",
            "_________________________________________________________________\n",
            "None\n",
            "Epoch 1/10\n",
            "6/6 [==============================] - 13s 1s/step - loss: 0.1418 - accuracy: 0.8566 - val_loss: 0.1157 - val_accuracy: 0.8608\n",
            "Epoch 2/10\n",
            "6/6 [==============================] - 5s 754ms/step - loss: 0.1120 - accuracy: 0.8637 - val_loss: 0.1113 - val_accuracy: 0.8608\n",
            "Epoch 3/10\n",
            "6/6 [==============================] - 4s 748ms/step - loss: 0.1061 - accuracy: 0.8657 - val_loss: 0.1109 - val_accuracy: 0.8608\n",
            "Epoch 4/10\n",
            "6/6 [==============================] - 5s 773ms/step - loss: 0.0976 - accuracy: 0.8721 - val_loss: 0.1301 - val_accuracy: 0.8938\n",
            "Epoch 5/10\n",
            "6/6 [==============================] - 4s 751ms/step - loss: 0.1095 - accuracy: 0.8777 - val_loss: 0.1051 - val_accuracy: 0.8797\n",
            "Epoch 6/10\n",
            "6/6 [==============================] - 5s 775ms/step - loss: 0.1006 - accuracy: 0.8798 - val_loss: 0.0856 - val_accuracy: 0.8966\n",
            "Epoch 7/10\n",
            "6/6 [==============================] - 5s 759ms/step - loss: 0.0880 - accuracy: 0.8971 - val_loss: 0.0823 - val_accuracy: 0.9008\n",
            "Epoch 8/10\n",
            "6/6 [==============================] - 4s 736ms/step - loss: 0.0811 - accuracy: 0.9013 - val_loss: 0.0911 - val_accuracy: 0.9008\n",
            "\n",
            "Reached +90% Accuracy so cancelling Training!\n"
          ],
          "name": "stdout"
        }
      ]
    },
    {
      "cell_type": "code",
      "metadata": {
        "colab": {
          "base_uri": "https://localhost:8080/"
        },
        "id": "bvEvtxWEQRbl",
        "outputId": "2ea6b753-840d-4144-99d2-9f80f15ee4ba"
      },
      "source": [
        "print(X_train.shape)\n",
        "print(X_test.shape)"
      ],
      "execution_count": 10,
      "outputs": [
        {
          "output_type": "stream",
          "text": [
            "(5685, 100)\n",
            "(1422, 100)\n"
          ],
          "name": "stdout"
        }
      ]
    },
    {
      "cell_type": "code",
      "metadata": {
        "colab": {
          "base_uri": "https://localhost:8080/"
        },
        "id": "C_3flAQIPhy4",
        "outputId": "4a91accb-1365-4306-b1f6-c28c21614aae"
      },
      "source": [
        "scores = model.evaluate(X_test, Y_test, verbose=1)\n",
        "# metics_names = loss, accuracy\n",
        "# scores = returns (loss_percentage accuracy_percentage)\n",
        "# %s (string), %.2f (02 digits floating point precision)\n",
        "print(\"%s: %.2f\" % (model.metrics_names[1].title(), scores[1]*100))"
      ],
      "execution_count": 11,
      "outputs": [
        {
          "output_type": "stream",
          "text": [
            "45/45 [==============================] - 3s 27ms/step - loss: 0.0920 - accuracy: 0.8847\n",
            "Accuracy: 88.47\n"
          ],
          "name": "stdout"
        }
      ]
    },
    {
      "cell_type": "code",
      "metadata": {
        "colab": {
          "base_uri": "https://localhost:8080/"
        },
        "id": "JOWd7SVNUNZa",
        "outputId": "43761dae-7f0c-4056-8133-0882fcbfb796"
      },
      "source": [
        "# Saving Model to a JSON file and it's corresponding weights\n",
        "# Serializing model to JSON\n",
        "model_json = model.to_json()\n",
        "with open(\"model.json\", \"w\") as json_file:\n",
        "    json_file.write(model_json)\n",
        "# Serializing Weights to HDF5\n",
        "model.save_weights(\"model.h5\")\n",
        "print(\"Saved model to disk\")"
      ],
      "execution_count": 12,
      "outputs": [
        {
          "output_type": "stream",
          "text": [
            "Saved model to disk\n"
          ],
          "name": "stdout"
        }
      ]
    },
    {
      "cell_type": "code",
      "metadata": {
        "colab": {
          "base_uri": "https://localhost:8080/"
        },
        "id": "Wdtu87qTVMBS",
        "outputId": "5fe44a46-3f43-43ec-c270-91158be795e5"
      },
      "source": [
        "# Load JSON and create model\n",
        "json_file = open('model.json', 'r')\n",
        "loaded_model_json = json_file.read()\n",
        "json_file.close()\n",
        "loaded_model = model_from_json(loaded_model_json)\n",
        "\n",
        "# Load Weights Into New Model\n",
        "loaded_model.load_weights(\"model.h5\")\n",
        "print(\"Loaded model from disk\")"
      ],
      "execution_count": 13,
      "outputs": [
        {
          "output_type": "stream",
          "text": [
            "WARNING:tensorflow:Layer lstm will not use cuDNN kernels since it doesn't meet the criteria. It will use a generic GPU kernel as fallback when running on GPU.\n",
            "Loaded model from disk\n"
          ],
          "name": "stdout"
        }
      ]
    },
    {
      "cell_type": "code",
      "metadata": {
        "colab": {
          "base_uri": "https://localhost:8080/"
        },
        "id": "VUVidZgxVsNk",
        "outputId": "5ce69790-fc59-4c8c-f2bd-750f59948f8f"
      },
      "source": [
        "# 20% is 1422\n",
        "# Evaluating loaded model on Test Data\n",
        "loaded_model.compile(loss='mse', optimizer='rmsprop', metrics=['accuracy'])\n",
        "score = loaded_model.evaluate(X_test, Y_test, verbose=0)\n",
        "print(\"%s: %.2f\" % (loaded_model.metrics_names[1].title(), score[1]*100))"
      ],
      "execution_count": null,
      "outputs": [
        {
          "output_type": "stream",
          "text": [
            "Accuracy: 87.06\n"
          ],
          "name": "stdout"
        }
      ]
    },
    {
      "cell_type": "code",
      "metadata": {
        "colab": {
          "base_uri": "https://localhost:8080/"
        },
        "id": "ld0mC-ftHhxz",
        "outputId": "cf62140f-464f-48ae-c1f5-013a3098beba"
      },
      "source": [
        "classification = model.predict(X_test)\n",
        "print(classification[100])"
      ],
      "execution_count": null,
      "outputs": [
        {
          "output_type": "stream",
          "text": [
            "[0.06188623]\n"
          ],
          "name": "stdout"
        }
      ]
    },
    {
      "cell_type": "code",
      "metadata": {
        "colab": {
          "base_uri": "https://localhost:8080/",
          "height": 337
        },
        "id": "hNyHeQRtfKJe",
        "outputId": "1cc0cda6-4cfa-4cfc-dab2-341deb1b0587"
      },
      "source": [
        "y_test_pred = model.predict_classes(X_test)\n",
        "cm = confusion_matrix(Y_test, y_test_pred)\n",
        "\n",
        "plot_confusion_matrix(conf_mat=cm,\n",
        "                      show_absolute=True,\n",
        "                      show_normed=True,\n",
        "                      colorbar=True)\n",
        "plt.savefig(\"Confusion_Matrix.png\")\n",
        "plt.show()  "
      ],
      "execution_count": 37,
      "outputs": [
        {
          "output_type": "stream",
          "text": [
            "/usr/local/lib/python3.7/dist-packages/keras/engine/sequential.py:450: UserWarning: `model.predict_classes()` is deprecated and will be removed after 2021-01-01. Please use instead:* `np.argmax(model.predict(x), axis=-1)`,   if your model does multi-class classification   (e.g. if it uses a `softmax` last-layer activation).* `(model.predict(x) > 0.5).astype(\"int32\")`,   if your model does binary classification   (e.g. if it uses a `sigmoid` last-layer activation).\n",
            "  warnings.warn('`model.predict_classes()` is deprecated and '\n"
          ],
          "name": "stderr"
        },
        {
          "output_type": "display_data",
          "data": {
            "image/png": "[encoded data removed]",
            "text/plain": [
              "<Figure size 432x288 with 2 Axes>"
            ]
          },
          "metadata": {
            "tags": [],
            "needs_background": "light"
          }
        }
      ]
    },
    {
      "cell_type": "code",
      "metadata": {
        "colab": {
          "base_uri": "https://localhost:8080/",
          "height": 295
        },
        "id": "HWqsgj81yNpH",
        "outputId": "41a6f0d9-c9ca-4420-d768-d2e9ec4cb926"
      },
      "source": [
        "plt.plot(history.history['accuracy'])\n",
        "plt.plot(history.history['val_accuracy'])\n",
        "plt.title('Model Accuracy')\n",
        "plt.ylabel('Accuracy')\n",
        "plt.xlabel('Epoch')\n",
        "plt.legend(['Train', 'Test'], loc='upper left')\n",
        "plt.grid()\n",
        "plt.savefig(\"accuracy.png\")\n",
        "plt.show()"
      ],
      "execution_count": 39,
      "outputs": [
        {
          "output_type": "display_data",
          "data": {
            "image/png": "[encoded data removed]",
            "text/plain": [
              "<Figure size 432x288 with 1 Axes>"
            ]
          },
          "metadata": {
            "tags": [],
            "needs_background": "light"
          }
        }
      ]
    },
    {
      "cell_type": "code",
      "metadata": {
        "colab": {
          "base_uri": "https://localhost:8080/",
          "height": 295
        },
        "id": "1kH9p-SakWY_",
        "outputId": "16a49ea1-d6a2-4a46-fa8b-7e1e5c7beb47"
      },
      "source": [
        "plt.plot(history.history['loss'])\n",
        "plt.plot(history.history['val_loss'])\n",
        "plt.title('Model loss')\n",
        "plt.ylabel('Loss')\n",
        "plt.xlabel('Epoch')\n",
        "plt.legend(['Train', 'Test'], loc='upper left')\n",
        "plt.grid()\n",
        "plt.savefig(\"loss.png\")\n",
        "plt.show()"
      ],
      "execution_count": 40,
      "outputs": [
        {
          "output_type": "display_data",
          "data": {
            "image/png": "[encoded data removed]",
            "text/plain": [
              "<Figure size 432x288 with 1 Axes>"
            ]
          },
          "metadata": {
            "tags": [],
            "needs_background": "light"
          }
        }
      ]
    },
    {
      "cell_type": "code",
      "metadata": {
        "id": "sXS-sg2jyMn4"
      },
      "source": [
        ""
      ],
      "execution_count": null,
      "outputs": []
    },
    {
      "cell_type": "code",
      "metadata": {
        "id": "9FbKNyGXlLzn"
      },
      "source": [
        ""
      ],
      "execution_count": null,
      "outputs": []
    }
  ]
}