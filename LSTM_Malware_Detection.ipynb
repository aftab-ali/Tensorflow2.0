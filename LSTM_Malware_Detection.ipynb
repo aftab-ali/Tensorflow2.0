{
  "nbformat": 4,
  "nbformat_minor": 0,
  "metadata": {
    "colab": {
      "name": "LSTM Malware Detection.ipynb",
      "provenance": [],
      "collapsed_sections": [],
      "authorship_tag": "ABX9TyNGFHJcwHOqVp8XT/rPHpKu",
      "include_colab_link": true
    },
    "kernelspec": {
      "name": "python3",
      "display_name": "Python 3"
    },
    "language_info": {
      "name": "python"
    },
    "accelerator": "GPU"
  },
  "cells": [
    {
      "cell_type": "markdown",
      "metadata": {
        "id": "view-in-github",
        "colab_type": "text"
      },
      "source": [
        "<a href=\"https://colab.research.google.com/github/aftab-ali/Tensorflow2.0/blob/main/LSTM_Malware_Detection.ipynb\" target=\"_parent\"><img src=\"https://colab.research.google.com/assets/colab-badge.svg\" alt=\"Open In Colab\"/></a>"
      ]
    },
    {
      "cell_type": "code",
      "metadata": {
        "id": "vwwjz_AHcSKX"
      },
      "source": [
        "import  joblib\n",
        "import pandas as pd\n",
        "import matplotlib.pyplot as plt\n",
        "import seaborn as sns\n",
        "from sklearn.preprocessing import LabelEncoder\n",
        "from sklearn.model_selection import train_test_split\n",
        "from sklearn.metrics import confusion_matrix\n",
        "from keras.preprocessing.text import Tokenizer\n",
        "from keras.layers import LSTM, Dense, Dropout, Embedding\n",
        "from keras.preprocessing import sequence\n",
        "from keras.utils import np_utils\n",
        "from keras.models import Sequential\n",
        "from keras.layers import SpatialDropout1D\n",
        "from mlxtend.plotting import plot_confusion_matrix"
      ],
      "execution_count": 4,
      "outputs": []
    },
    {
      "cell_type": "code",
      "metadata": {
        "id": "_XdiZF4ndAae"
      },
      "source": [
        "malware_calls_df = pd.read_csv(\"calls.zip\", compression=\"zip\",\n",
        "                               sep=\"\\t\", names=[\"API_Calls\"])\n",
        "\n",
        "malware_labels_df = pd.read_csv(\"types.zip\", compression=\"zip\",\n",
        "                                sep=\"\\t\", names=[\"API_Labels\"])\n",
        "\n",
        "malware_calls_df[\"API_Labels\"] = malware_labels_df.API_Labels\n",
        "malware_calls_df[\"API_Calls\"] = malware_calls_df.API_Calls.apply(lambda x: \" \".join(x.split(\",\")))\n",
        "\n",
        "malware_calls_df[\"API_Labels\"] = malware_calls_df.API_Labels.apply(lambda x: 1 if x == \"Virus\" else 0)"
      ],
      "execution_count": 5,
      "outputs": []
    },
    {
      "cell_type": "code",
      "metadata": {
        "colab": {
          "base_uri": "https://localhost:8080/",
          "height": 351
        },
        "id": "k2XNuLbbdMEV",
        "outputId": "d31642e1-910e-4e76-9aee-119ea1f7fca6"
      },
      "source": [
        "sns.countplot(malware_calls_df.API_Labels)\n",
        "plt.xlabel('Labels')\n",
        "plt.title('Class Distribution')\n",
        "plt.savefig(\"class_distribution.png\")\n",
        "plt.show()"
      ],
      "execution_count": 6,
      "outputs": [
        {
          "output_type": "stream",
          "text": [
            "/usr/local/lib/python3.7/dist-packages/seaborn/_decorators.py:43: FutureWarning: Pass the following variable as a keyword arg: x. From version 0.12, the only valid positional argument will be `data`, and passing other arguments without an explicit keyword will result in an error or misinterpretation.\n",
            "  FutureWarning\n"
          ],
          "name": "stderr"
        },
        {
          "output_type": "display_data",
          "data": {
            "image/png": "[encoded data removed]",
            "text/plain": [
              "<Figure size 432x288 with 1 Axes>"
            ]
          },
          "metadata": {
            "tags": [],
            "needs_background": "light"
          }
        }
      ]
    },
    {
      "cell_type": "code",
      "metadata": {
        "colab": {
          "base_uri": "https://localhost:8080/"
        },
        "id": "REPFHFpGdV11",
        "outputId": "e3a5918a-0afd-400a-97e5-c2a9ca684b1d"
      },
      "source": [
        "max_words = 800\n",
        "max_len = 100\n",
        "\n",
        "X = malware_calls_df.API_Calls\n",
        "Y = malware_calls_df.API_Labels.astype('category').cat.codes\n",
        "\n",
        "tok = Tokenizer(num_words=max_words)\n",
        "tok.fit_on_texts(X)\n",
        "print('Found %s unique tokens.' % len(tok.word_index))\n",
        "X = tok.texts_to_sequences(X.values)\n",
        "X = sequence.pad_sequences(X, maxlen=max_len)\n",
        "print('Shape of data tensor:', X.shape)\n",
        "\n",
        "X_train, X_test, Y_train, Y_test = train_test_split(X, Y, test_size=0.2)\n",
        "\n",
        "le = LabelEncoder()\n",
        "Y_train_enc = le.fit_transform(Y_train)\n",
        "Y_train_enc = np_utils.to_categorical(Y_train_enc)\n",
        "\n",
        "Y_test_enc = le.transform(Y_test)\n",
        "Y_test_enc = np_utils.to_categorical(Y_test_enc)"
      ],
      "execution_count": 7,
      "outputs": [
        {
          "output_type": "stream",
          "text": [
            "Found 278 unique tokens.\n",
            "Shape of data tensor: (7107, 100)\n"
          ],
          "name": "stdout"
        }
      ]
    },
    {
      "cell_type": "code",
      "metadata": {
        "id": "C-4-47EIdahG"
      },
      "source": [
        "# Sequential Model\n",
        "# activation_function = 'tanh'\n",
        "def malware_model(act_func=\"softsign\"):\n",
        "    model = Sequential()\n",
        "    model.add(Embedding(max_words, 300, input_length=max_len))\n",
        "    model.add(SpatialDropout1D(0.1))\n",
        "    model.add(LSTM(32, dropout=0.1, recurrent_dropout=0.1, return_sequences=True, activation=act_func))\n",
        "    model.add(LSTM(32, dropout=0.1, activation=act_func, return_sequences=True))\n",
        "    model.add(LSTM(32, dropout=0.1, activation=act_func))\n",
        "    model.add(Dense(128, activation=act_func))\n",
        "    model.add(Dropout(0.1))\n",
        "    model.add(Dense(256, activation=act_func))\n",
        "    model.add(Dropout(0.1))\n",
        "    model.add(Dense(128, activation=act_func))\n",
        "    model.add(Dropout(0.1))\n",
        "    model.add(Dense(1, name='out_layer', activation=\"linear\"))\n",
        "    return model"
      ],
      "execution_count": 16,
      "outputs": []
    },
    {
      "cell_type": "code",
      "metadata": {
        "colab": {
          "base_uri": "https://localhost:8080/"
        },
        "id": "hzL1O4-bfJfI",
        "outputId": "d384fad3-161a-4674-a37a-ecc51233f551"
      },
      "source": [
        "model = malware_model()\n",
        "print(model.summary())\n",
        "model.compile(loss='mse', optimizer=\"rmsprop\", metrics=['accuracy'])\n",
        "\n",
        "history = model.fit(X_train, Y_train, batch_size=1000, epochs=10,\n",
        "                    validation_data=(X_test, Y_test), verbose=1)\n",
        "# print(model.predict([X_test, Y_test]))"
      ],
      "execution_count": 17,
      "outputs": [
        {
          "output_type": "stream",
          "text": [
            "WARNING:tensorflow:Layer lstm_3 will not use cuDNN kernels since it doesn't meet the criteria. It will use a generic GPU kernel as fallback when running on GPU.\n",
            "WARNING:tensorflow:Layer lstm_4 will not use cuDNN kernels since it doesn't meet the criteria. It will use a generic GPU kernel as fallback when running on GPU.\n",
            "WARNING:tensorflow:Layer lstm_5 will not use cuDNN kernels since it doesn't meet the criteria. It will use a generic GPU kernel as fallback when running on GPU.\n",
            "Model: \"sequential_1\"\n",
            "_________________________________________________________________\n",
            "Layer (type)                 Output Shape              Param #   \n",
            "=================================================================\n",
            "embedding_1 (Embedding)      (None, 100, 300)          240000    \n",
            "_________________________________________________________________\n",
            "spatial_dropout1d_1 (Spatial (None, 100, 300)          0         \n",
            "_________________________________________________________________\n",
            "lstm_3 (LSTM)                (None, 100, 32)           42624     \n",
            "_________________________________________________________________\n",
            "lstm_4 (LSTM)                (None, 100, 32)           8320      \n",
            "_________________________________________________________________\n",
            "lstm_5 (LSTM)                (None, 32)                8320      \n",
            "_________________________________________________________________\n",
            "dense_3 (Dense)              (None, 128)               4224      \n",
            "_________________________________________________________________\n",
            "dropout_3 (Dropout)          (None, 128)               0         \n",
            "_________________________________________________________________\n",
            "dense_4 (Dense)              (None, 256)               33024     \n",
            "_________________________________________________________________\n",
            "dropout_4 (Dropout)          (None, 256)               0         \n",
            "_________________________________________________________________\n",
            "dense_5 (Dense)              (None, 128)               32896     \n",
            "_________________________________________________________________\n",
            "dropout_5 (Dropout)          (None, 128)               0         \n",
            "_________________________________________________________________\n",
            "out_layer (Dense)            (None, 1)                 129       \n",
            "=================================================================\n",
            "Total params: 369,537\n",
            "Trainable params: 369,537\n",
            "Non-trainable params: 0\n",
            "_________________________________________________________________\n",
            "None\n",
            "Epoch 1/10\n",
            "6/6 [==============================] - 14s 1s/step - loss: 0.1441 - accuracy: 0.8590 - val_loss: 0.1228 - val_accuracy: 0.8523\n",
            "Epoch 2/10\n",
            "6/6 [==============================] - 5s 882ms/step - loss: 0.1157 - accuracy: 0.8585 - val_loss: 0.1405 - val_accuracy: 0.8523\n",
            "Epoch 3/10\n",
            "6/6 [==============================] - 5s 904ms/step - loss: 0.1182 - accuracy: 0.8603 - val_loss: 0.1324 - val_accuracy: 0.8615\n",
            "Epoch 4/10\n",
            "6/6 [==============================] - 5s 882ms/step - loss: 0.1127 - accuracy: 0.8676 - val_loss: 0.0996 - val_accuracy: 0.8692\n",
            "Epoch 5/10\n",
            "6/6 [==============================] - 5s 875ms/step - loss: 0.1021 - accuracy: 0.8817 - val_loss: 0.0949 - val_accuracy: 0.8833\n",
            "Epoch 6/10\n",
            "6/6 [==============================] - 5s 851ms/step - loss: 0.0896 - accuracy: 0.8911 - val_loss: 0.0944 - val_accuracy: 0.8812\n",
            "Epoch 7/10\n",
            "6/6 [==============================] - 5s 889ms/step - loss: 0.0878 - accuracy: 0.8979 - val_loss: 0.0878 - val_accuracy: 0.8924\n",
            "Epoch 8/10\n",
            "6/6 [==============================] - 5s 865ms/step - loss: 0.0787 - accuracy: 0.9084 - val_loss: 0.0845 - val_accuracy: 0.8959\n",
            "Epoch 9/10\n",
            "6/6 [==============================] - 5s 871ms/step - loss: 0.0820 - accuracy: 0.8993 - val_loss: 0.0836 - val_accuracy: 0.8966\n",
            "Epoch 10/10\n",
            "6/6 [==============================] - 5s 899ms/step - loss: 0.0800 - accuracy: 0.9079 - val_loss: 0.0846 - val_accuracy: 0.9072\n"
          ],
          "name": "stdout"
        }
      ]
    },
    {
      "cell_type": "code",
      "metadata": {
        "colab": {
          "base_uri": "https://localhost:8080/",
          "height": 335
        },
        "id": "hNyHeQRtfKJe",
        "outputId": "cab75ecf-cd83-47e8-99c8-74aa917c3dfb"
      },
      "source": [
        "y_test_pred = model.predict_classes(X_test)\n",
        "cm = confusion_matrix(Y_test, y_test_pred)\n",
        "\n",
        "plot_confusion_matrix(conf_mat=cm,\n",
        "                      show_absolute=True,\n",
        "                      show_normed=True,\n",
        "                      colorbar=True)\n",
        "plt.savefig(\"Confusion_Matrix.png\")\n",
        "plt.show()  "
      ],
      "execution_count": 18,
      "outputs": [
        {
          "output_type": "stream",
          "text": [
            "/usr/local/lib/python3.7/dist-packages/keras/engine/sequential.py:450: UserWarning: `model.predict_classes()` is deprecated and will be removed after 2021-01-01. Please use instead:* `np.argmax(model.predict(x), axis=-1)`,   if your model does multi-class classification   (e.g. if it uses a `softmax` last-layer activation).* `(model.predict(x) > 0.5).astype(\"int32\")`,   if your model does binary classification   (e.g. if it uses a `sigmoid` last-layer activation).\n",
            "  warnings.warn('`model.predict_classes()` is deprecated and '\n"
          ],
          "name": "stderr"
        },
        {
          "output_type": "display_data",
          "data": {
            "image/png": "[encoded data removed]",
            "text/plain": [
              "<Figure size 432x288 with 2 Axes>"
            ]
          },
          "metadata": {
            "tags": [],
            "needs_background": "light"
          }
        }
      ]
    },
    {
      "cell_type": "code",
      "metadata": {
        "colab": {
          "base_uri": "https://localhost:8080/",
          "height": 295
        },
        "id": "FZHYf_6lhrTJ",
        "outputId": "bee429b1-5851-42e4-8214-ec5b2e08e697"
      },
      "source": [
        "plt.plot(history.history['accuracy'])\n",
        "plt.plot(history.history['val_accuracy'])\n",
        "plt.title('Model Accuracy')\n",
        "plt.ylabel('Accuracy')\n",
        "plt.xlabel('Epoch')\n",
        "plt.legend(['Train', 'Test'], loc='upper left')\n",
        "plt.grid()\n",
        "plt.savefig(\"accuracy.png\")\n",
        "plt.show()"
      ],
      "execution_count": 20,
      "outputs": [
        {
          "output_type": "display_data",
          "data": {
            "image/png": "[encoded data removed]",
            "text/plain": [
              "<Figure size 432x288 with 1 Axes>"
            ]
          },
          "metadata": {
            "tags": [],
            "needs_background": "light"
          }
        }
      ]
    },
    {
      "cell_type": "code",
      "metadata": {
        "colab": {
          "base_uri": "https://localhost:8080/",
          "height": 295
        },
        "id": "1kH9p-SakWY_",
        "outputId": "65916284-2b0f-4cd2-b0d5-60ea81436304"
      },
      "source": [
        "plt.plot(history.history['loss'])\n",
        "plt.plot(history.history['val_loss'])\n",
        "plt.title('Model loss')\n",
        "plt.ylabel('Loss')\n",
        "plt.xlabel('Epoch')\n",
        "plt.legend(['Train', 'Test'], loc='upper left')\n",
        "plt.grid()\n",
        "plt.savefig(\"loss.png\")\n",
        "plt.show()"
      ],
      "execution_count": 21,
      "outputs": [
        {
          "output_type": "display_data",
          "data": {
            "image/png": "[encoded data removed]",
            "text/plain": [
              "<Figure size 432x288 with 1 Axes>"
            ]
          },
          "metadata": {
            "tags": [],
            "needs_background": "light"
          }
        }
      ]
    },
    {
      "cell_type": "code",
      "metadata": {
        "id": "9FbKNyGXlLzn"
      },
      "source": [
        ""
      ],
      "execution_count": null,
      "outputs": []
    }
  ]
}